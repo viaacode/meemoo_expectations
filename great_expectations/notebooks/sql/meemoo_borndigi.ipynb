{
 "cells": [
  {
   "cell_type": "markdown",
   "metadata": {},
   "source": [
    "# meemoo - borndigital validation\n",
    "\n",
    "**Watch** a [short tutorial video](https://greatexpectations.io/videos/getting_started/integrate_expectations) or **read** [the written tutorial](https://docs.greatexpectations.io/en/latest/tutorials/validate_data.html?utm_source=notebook&utm_medium=validate_data)"
   ]
  },
  {
   "cell_type": "code",
   "execution_count": 1,
   "metadata": {},
   "outputs": [
    {
     "name": "stdout",
     "output_type": "stream",
     "text": [
      "2020-12-23T17:20:46+0100 - INFO - Great Expectations logging enabled at 20 level by JupyterUX module.\n"
     ]
    }
   ],
   "source": [
    "import json\n",
    "import great_expectations as ge\n",
    "import great_expectations.jupyter_ux\n",
    "from great_expectations.datasource.types import BatchKwargs\n",
    "import datetime"
   ]
  },
  {
   "cell_type": "markdown",
   "metadata": {},
   "source": [
    "## 1. Get a DataContext\n",
    "This represents the **project** in this folder (originally created using `great_expectations init`)."
   ]
  },
  {
   "cell_type": "code",
   "execution_count": 2,
   "metadata": {},
   "outputs": [],
   "source": [
    "context = ge.data_context.DataContext()"
   ]
  },
  {
   "cell_type": "markdown",
   "metadata": {},
   "source": [
    "## 2. Choose an Expectation Suite\n",
    "\n",
    "List expectation suites that you created in your project"
   ]
  },
  {
   "cell_type": "code",
   "execution_count": 3,
   "metadata": {},
   "outputs": [
    {
     "data": {
      "text/plain": [
       "['borndigi_test']"
      ]
     },
     "execution_count": 3,
     "metadata": {},
     "output_type": "execute_result"
    }
   ],
   "source": [
    "context.list_expectation_suite_names()"
   ]
  },
  {
   "cell_type": "code",
   "execution_count": 4,
   "metadata": {},
   "outputs": [],
   "source": [
    "expectation_suite_name = 'borndigi_test' # name from the list above"
   ]
  },
  {
   "cell_type": "markdown",
   "metadata": {},
   "source": [
    "## 3. Generate an SQL query from field list\n",
    "\n",
    "We need to extract the metadata fields from the database and place them into a tabular structure.\n",
    "The `generate_query` function from the `meemoo_util` package constructs a table from a list of fields and for example a borndigital batch id."
   ]
  },
  {
   "cell_type": "code",
   "execution_count": 5,
   "metadata": {},
   "outputs": [
    {
     "data": {
      "text/plain": [
       "\"SELECT CP[1]::text AS CP, CP_id[1]::text AS CP_id, dc_identifier_localid[1]::text AS dc_identifier_localid, dc_title[1]::text AS dc_title, dcterms_created[1]::text AS dcterms_created, dcterms_issued[1]::text AS dcterms_issued,dc_identifier_localids[1]::text AS dc_identifier_localids,dc_titles[1]::text AS dc_titles,dc_rights_licenses[1]::text AS dc_rights_licenses,dc_subjects[1]::text AS dc_subjects FROM (SELECT xpath('/VIAA/CP/text()', xmldata::xml) AS CP, xpath('/VIAA/CP_id/text()', xmldata::xml) AS CP_id, xpath('/VIAA/dc_identifier_localid/text()', xmldata::xml) AS dc_identifier_localid, xpath('/VIAA/dc_title/text()', xmldata::xml) AS dc_title, xpath('/VIAA/dcterms_created/text()', xmldata::xml) AS dcterms_created, xpath('/VIAA/dcterms_issued/text()', xmldata::xml) AS dcterms_issued, xpath('/VIAA/dc_identifier_localids/*', xmldata::xml) AS dc_identifier_localids,xpath('/VIAA/dc_titles/*', xmldata::xml) AS dc_titles,xpath('/VIAA/dc_rights_licenses/*', xmldata::xml) AS dc_rights_licenses,xpath('/VIAA/dc_subjects/*', xmldata::xml) AS dc_subjects FROM jobbd WHERE batch_id = 5) y\""
      ]
     },
     "execution_count": 5,
     "metadata": {},
     "output_type": "execute_result"
    }
   ],
   "source": [
    "from meemoo_util import generate_query\n",
    "\n",
    "FIELDS = [\"CP\", \"CP_id\", \"dc_identifier_localid\", \"dc_title\", \"dcterms_created\", \"dcterms_issued\"]\n",
    "MULTISELECT_FIELDS = [\"dc_identifier_localids\", \"dc_titles\", \"dc_rights_licenses\", \"dc_subjects\"]\n",
    "BORNDIGITAL_BATCH_ID = 5\n",
    "\n",
    "borndigi_query = generate_query(FIELDS, MULTISELECT_FIELDS, {\"batch_id\":  BORNDIGITAL_BATCH_ID})\n",
    "borndigi_query"
   ]
  },
  {
   "cell_type": "markdown",
   "metadata": {},
   "source": [
    "## 4. Load a batch of data you want to validate\n",
    "\n",
    "To learn more about `get_batch`, see [this tutorial](https://docs.greatexpectations.io/en/latest/tutorials/validate_data.html?utm_source=notebook&utm_medium=validate_data#load-a-batch-of-data-to-validate)\n"
   ]
  },
  {
   "cell_type": "code",
   "execution_count": 6,
   "metadata": {},
   "outputs": [
    {
     "data": {
      "text/plain": [
       "['borndigi']"
      ]
     },
     "execution_count": 6,
     "metadata": {},
     "output_type": "execute_result"
    }
   ],
   "source": [
    "# list datasources of the type SqlAlchemyDatasource in your project\n",
    "[datasource['name'] for datasource in context.list_datasources() if datasource['class_name'] == 'SqlAlchemyDatasource']"
   ]
  },
  {
   "cell_type": "code",
   "execution_count": 7,
   "metadata": {},
   "outputs": [],
   "source": [
    "datasource_name = 'borndigi' # a datasource name from above"
   ]
  },
  {
   "cell_type": "code",
   "execution_count": 8,
   "metadata": {},
   "outputs": [
    {
     "name": "stdout",
     "output_type": "stream",
     "text": [
      "2020-12-23T17:21:09+0100 - INFO - \t9 expectation(s) included in expectation_suite.\n"
     ]
    },
    {
     "data": {
      "text/html": [
       "<div>\n",
       "<style scoped>\n",
       "    .dataframe tbody tr th:only-of-type {\n",
       "        vertical-align: middle;\n",
       "    }\n",
       "\n",
       "    .dataframe tbody tr th {\n",
       "        vertical-align: top;\n",
       "    }\n",
       "\n",
       "    .dataframe thead th {\n",
       "        text-align: right;\n",
       "    }\n",
       "</style>\n",
       "<table border=\"1\" class=\"dataframe\">\n",
       "  <thead>\n",
       "    <tr style=\"text-align: right;\">\n",
       "      <th></th>\n",
       "      <th>cp</th>\n",
       "      <th>cp_id</th>\n",
       "      <th>dc_identifier_localid</th>\n",
       "      <th>dc_title</th>\n",
       "      <th>dcterms_created</th>\n",
       "      <th>dcterms_issued</th>\n",
       "      <th>dc_identifier_localids</th>\n",
       "      <th>dc_titles</th>\n",
       "      <th>dc_rights_licenses</th>\n",
       "      <th>dc_subjects</th>\n",
       "    </tr>\n",
       "  </thead>\n",
       "  <tbody>\n",
       "    <tr>\n",
       "      <th>0</th>\n",
       "      <td>Huis van Alijn</td>\n",
       "      <td>OR-1v5bc86</td>\n",
       "      <td>FO-60-01479</td>\n",
       "      <td>Bruidspaar André en Georgette in bootje, Sint-...</td>\n",
       "      <td>1966-07-02/uuuu-uu-uu</td>\n",
       "      <td>None</td>\n",
       "      <td>None</td>\n",
       "      <td>&lt;alternatief&gt;digitale afbeelding&lt;/alternatief&gt;</td>\n",
       "      <td>&lt;multiselect&gt;VIAA-PUBLIEK-METADATA-LTD&lt;/multis...</td>\n",
       "      <td>&lt;Trefwoord&gt;Onderwerp | huwelijk&lt;/Trefwoord&gt;</td>\n",
       "    </tr>\n",
       "    <tr>\n",
       "      <th>1</th>\n",
       "      <td>Huis van Alijn</td>\n",
       "      <td>OR-1v5bc86</td>\n",
       "      <td>FO-60-01481</td>\n",
       "      <td>Huwelijksmis Betsie en Walter, Gent, 1968</td>\n",
       "      <td>1968-04-05/uuuu-uu-uu</td>\n",
       "      <td>None</td>\n",
       "      <td>None</td>\n",
       "      <td>&lt;alternatief&gt;digitale afbeelding&lt;/alternatief&gt;</td>\n",
       "      <td>&lt;multiselect&gt;VIAA-PUBLIEK-METADATA-LTD&lt;/multis...</td>\n",
       "      <td>&lt;Trefwoord&gt;Onderwerp | huwelijk&lt;/Trefwoord&gt;</td>\n",
       "    </tr>\n",
       "    <tr>\n",
       "      <th>2</th>\n",
       "      <td>Huis van Alijn</td>\n",
       "      <td>OR-1v5bc86</td>\n",
       "      <td>FO-50-01562</td>\n",
       "      <td>Echtpaar bij auto, Doornzele, 1954</td>\n",
       "      <td>1954-05-15/uuuu-uu-uu</td>\n",
       "      <td>None</td>\n",
       "      <td>None</td>\n",
       "      <td>&lt;alternatief&gt;digitale afbeelding&lt;/alternatief&gt;</td>\n",
       "      <td>&lt;multiselect&gt;VIAA-PUBLIEK-METADATA-LTD&lt;/multis...</td>\n",
       "      <td>&lt;Trefwoord&gt;Onderwerp | vervoer&lt;/Trefwoord&gt;</td>\n",
       "    </tr>\n",
       "    <tr>\n",
       "      <th>3</th>\n",
       "      <td>Huis van Alijn</td>\n",
       "      <td>OR-1v5bc86</td>\n",
       "      <td>FO-60-01484</td>\n",
       "      <td>Trouwfeest Betsie en Walter, Gent, 1968</td>\n",
       "      <td>1968-04-05/uuuu-uu-uu</td>\n",
       "      <td>None</td>\n",
       "      <td>None</td>\n",
       "      <td>&lt;alternatief&gt;digitale afbeelding&lt;/alternatief&gt;</td>\n",
       "      <td>&lt;multiselect&gt;VIAA-PUBLIEK-METADATA-LTD&lt;/multis...</td>\n",
       "      <td>&lt;Trefwoord&gt;Onderwerp | huwelijk&lt;/Trefwoord&gt;</td>\n",
       "    </tr>\n",
       "    <tr>\n",
       "      <th>4</th>\n",
       "      <td>Huis van Alijn</td>\n",
       "      <td>OR-1v5bc86</td>\n",
       "      <td>FO-60-01485</td>\n",
       "      <td>Openingsdans Betsie en Walter, Gent, 1968</td>\n",
       "      <td>1968-04-05/uuuu-uu-uu</td>\n",
       "      <td>None</td>\n",
       "      <td>None</td>\n",
       "      <td>&lt;alternatief&gt;digitale afbeelding&lt;/alternatief&gt;</td>\n",
       "      <td>&lt;multiselect&gt;VIAA-PUBLIEK-METADATA-LTD&lt;/multis...</td>\n",
       "      <td>&lt;Trefwoord&gt;Onderwerp | huwelijk&lt;/Trefwoord&gt;</td>\n",
       "    </tr>\n",
       "  </tbody>\n",
       "</table>\n",
       "</div>"
      ],
      "text/plain": [
       "               cp       cp_id dc_identifier_localid  \\\n",
       "0  Huis van Alijn  OR-1v5bc86           FO-60-01479   \n",
       "1  Huis van Alijn  OR-1v5bc86           FO-60-01481   \n",
       "2  Huis van Alijn  OR-1v5bc86           FO-50-01562   \n",
       "3  Huis van Alijn  OR-1v5bc86           FO-60-01484   \n",
       "4  Huis van Alijn  OR-1v5bc86           FO-60-01485   \n",
       "\n",
       "                                            dc_title        dcterms_created  \\\n",
       "0  Bruidspaar André en Georgette in bootje, Sint-...  1966-07-02/uuuu-uu-uu   \n",
       "1          Huwelijksmis Betsie en Walter, Gent, 1968  1968-04-05/uuuu-uu-uu   \n",
       "2                 Echtpaar bij auto, Doornzele, 1954  1954-05-15/uuuu-uu-uu   \n",
       "3            Trouwfeest Betsie en Walter, Gent, 1968  1968-04-05/uuuu-uu-uu   \n",
       "4          Openingsdans Betsie en Walter, Gent, 1968  1968-04-05/uuuu-uu-uu   \n",
       "\n",
       "  dcterms_issued dc_identifier_localids  \\\n",
       "0           None                   None   \n",
       "1           None                   None   \n",
       "2           None                   None   \n",
       "3           None                   None   \n",
       "4           None                   None   \n",
       "\n",
       "                                        dc_titles  \\\n",
       "0  <alternatief>digitale afbeelding</alternatief>   \n",
       "1  <alternatief>digitale afbeelding</alternatief>   \n",
       "2  <alternatief>digitale afbeelding</alternatief>   \n",
       "3  <alternatief>digitale afbeelding</alternatief>   \n",
       "4  <alternatief>digitale afbeelding</alternatief>   \n",
       "\n",
       "                                  dc_rights_licenses  \\\n",
       "0  <multiselect>VIAA-PUBLIEK-METADATA-LTD</multis...   \n",
       "1  <multiselect>VIAA-PUBLIEK-METADATA-LTD</multis...   \n",
       "2  <multiselect>VIAA-PUBLIEK-METADATA-LTD</multis...   \n",
       "3  <multiselect>VIAA-PUBLIEK-METADATA-LTD</multis...   \n",
       "4  <multiselect>VIAA-PUBLIEK-METADATA-LTD</multis...   \n",
       "\n",
       "                                   dc_subjects  \n",
       "0  <Trefwoord>Onderwerp | huwelijk</Trefwoord>  \n",
       "1  <Trefwoord>Onderwerp | huwelijk</Trefwoord>  \n",
       "2   <Trefwoord>Onderwerp | vervoer</Trefwoord>  \n",
       "3  <Trefwoord>Onderwerp | huwelijk</Trefwoord>  \n",
       "4  <Trefwoord>Onderwerp | huwelijk</Trefwoord>  "
      ]
     },
     "execution_count": 8,
     "metadata": {},
     "output_type": "execute_result"
    }
   ],
   "source": [
    "# If you would like to validate the result set of a query:\n",
    "batch_kwargs = {'query': borndigi_query, 'datasource': datasource_name}\n",
    "\n",
    "batch = context.get_batch(batch_kwargs, expectation_suite_name)\n",
    "batch.head()"
   ]
  },
  {
   "cell_type": "markdown",
   "metadata": {},
   "source": [
    "## 4. Validate the batch with Validation Operators\n",
    "\n",
    "`Validation Operators` provide a convenient way to bundle the validation of\n",
    "multiple expectation suites and the actions that should be taken after validation.\n",
    "\n",
    "When deploying Great Expectations in a **real data pipeline, you will typically discover these needs**:\n",
    "\n",
    "* validating a group of batches that are logically related\n",
    "* validating a batch against several expectation suites such as using a tiered pattern like `warning` and `failure`\n",
    "* doing something with the validation results (e.g., saving them for a later review, sending notifications in case of failures, etc.).\n",
    "\n",
    "[Read more about Validation Operators in the tutorial](https://docs.greatexpectations.io/en/latest/tutorials/validate_data.html?utm_source=notebook&utm_medium=validate_data#save-validation-results)"
   ]
  },
  {
   "cell_type": "code",
   "execution_count": 9,
   "metadata": {},
   "outputs": [
    {
     "name": "stdout",
     "output_type": "stream",
     "text": [
      "2020-12-23T17:21:13+0100 - INFO - \t9 expectation(s) included in expectation_suite.\n"
     ]
    }
   ],
   "source": [
    "# This is an example of invoking a validation operator that is configured by default in the great_expectations.yml file\n",
    "\n",
    "\"\"\"\n",
    "Create a run_id. The run_id must be of type RunIdentifier, with optional run_name and run_time instantiation\n",
    "arguments (or a dictionary with these keys). The run_name can be any string (this could come from your pipeline\n",
    "runner, e.g. Airflow run id). The run_time can be either a dateutil parsable string or a datetime object.\n",
    "Note - any provided datetime will be assumed to be a UTC time. If no instantiation arguments are given, run_name will\n",
    "be None and run_time will default to the current UTC datetime.\n",
    "\"\"\"\n",
    "\n",
    "run_id = {\n",
    "  \"run_name\": \"borndigi_run\",  # insert your own run_name here\n",
    "  \"run_time\": datetime.datetime.now(datetime.timezone.utc)\n",
    "}\n",
    "\n",
    "results = context.run_validation_operator(\n",
    "    \"action_list_operator\",\n",
    "    assets_to_validate=[batch],\n",
    "    run_id=run_id)"
   ]
  },
  {
   "cell_type": "markdown",
   "metadata": {},
   "source": [
    "## 5. View the Validation Results in Data Docs\n",
    "\n",
    "Let's now build and look at your Data Docs. These will now include an **data quality report** built from the `ValidationResults` you just created that helps you communicate about your data with both machines and humans.\n",
    "\n",
    "[Read more about Data Docs in the tutorial](https://docs.greatexpectations.io/en/latest/tutorials/validate_data.html?utm_source=notebook&utm_medium=validate_data#view-the-validation-results-in-data-docs)"
   ]
  },
  {
   "cell_type": "code",
   "execution_count": 10,
   "metadata": {},
   "outputs": [],
   "source": [
    "context.open_data_docs()"
   ]
  },
  {
   "cell_type": "code",
   "execution_count": null,
   "metadata": {},
   "outputs": [],
   "source": []
  }
 ],
 "metadata": {
  "kernelspec": {
   "display_name": "Python 3",
   "language": "python",
   "name": "python3"
  },
  "language_info": {
   "codemirror_mode": {
    "name": "ipython",
    "version": 3
   },
   "file_extension": ".py",
   "mimetype": "text/x-python",
   "name": "python",
   "nbconvert_exporter": "python",
   "pygments_lexer": "ipython3",
   "version": "3.7.6"
  },
  "pycharm": {
   "stem_cell": {
    "cell_type": "raw",
    "metadata": {
     "collapsed": false
    },
    "source": []
   }
  }
 },
 "nbformat": 4,
 "nbformat_minor": 4
}
